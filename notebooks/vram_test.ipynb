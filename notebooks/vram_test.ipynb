{
 "cells": [
  {
   "cell_type": "code",
   "execution_count": null,
   "metadata": {
    "vscode": {
     "languageId": "plaintext"
    }
   },
   "outputs": [],
   "source": [
    "import torch\n",
    "import torch.nn.functional as F\n",
    "import gc\n",
    "\n",
    "def measure_vram():\n",
    "    \"\"\"\n",
    "    Measures GPU VRAM usage before and after computation.\n",
    "    \"\"\"\n",
    "    torch.cuda.empty_cache()\n",
    "    gc.collect()\n",
    "\n",
    "    torch.cuda.reset_peak_memory_stats()\n",
    "    start_vram = torch.cuda.memory_allocated()\n",
    "\n",
    "    # Define model inputs\n",
    "    batch_size, input_dim, num_classes = 32, 512, 1000\n",
    "    x = torch.randn(batch_size, input_dim, device=\"cuda\", requires_grad=True)\n",
    "    W = torch.randn(input_dim, num_classes, device=\"cuda\", requires_grad=True)\n",
    "    targets = torch.randint(0, num_classes, (batch_size,), device=\"cuda\")\n",
    "\n",
    "    # Compute loss using memory-efficient CE\n",
    "    loss = MemoryEfficientCrossEntropy.apply(x, W, targets)\n",
    "    loss.backward()\n",
    "\n",
    "    end_vram = torch.cuda.memory_allocated()\n",
    "    print(f\"VRAM Usage: {end_vram - start_vram} bytes\")\n",
    "\n",
    "measure_vram()\n"
   ]
  }
 ],
 "metadata": {
  "language_info": {
   "name": "python"
  }
 },
 "nbformat": 4,
 "nbformat_minor": 2
}
